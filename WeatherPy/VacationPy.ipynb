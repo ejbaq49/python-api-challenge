{
 "cells": [
  {
   "cell_type": "markdown",
   "metadata": {},
   "source": [
    "# VacationPy\n",
    "----\n",
    "\n",
    "#### Note\n",
    "* Instructions have been included for each segment. You do not have to follow them exactly, but they are included to help you think through the steps."
   ]
  },
  {
   "cell_type": "code",
   "execution_count": 118,
   "metadata": {},
   "outputs": [],
   "source": [
    "# Dependencies and Setup\n",
    "import matplotlib.pyplot as plt\n",
    "import pandas as pd\n",
    "import numpy as np\n",
    "import requests\n",
    "import gmaps\n",
    "import os\n",
    "from pprint import pprint\n",
    "\n",
    "# Import API key\n",
    "from api_keys import g_key\n",
    "\n"
   ]
  },
  {
   "cell_type": "markdown",
   "metadata": {},
   "source": [
    "### Store Part I results into DataFrame\n",
    "* Load the csv exported in Part I to a DataFrame"
   ]
  },
  {
   "cell_type": "code",
   "execution_count": 119,
   "metadata": {},
   "outputs": [
    {
     "output_type": "execute_result",
     "data": {
      "text/plain": "   Unnamed: 0   City Name    Lat     Lng   Temp  Humidity  Cloudiness  \\\n0           0        Hofn  64.25  -15.21  54.32        85         100   \n1           1     Rikitea -23.12 -134.97  70.54        75           0   \n2           2   Busselton -33.65  115.33  60.01        75         100   \n3           3     Huilong  31.81  121.66  78.01        99         100   \n4           4  Idrinskoye  54.37   92.14  58.60        86           3   \n\n   Wind Speed Country        Date  \n0       13.65      IS  1593296014  \n1       17.16      PF  1593295847  \n2       22.15      AU  1593295847  \n3        1.99      CN  1593296078  \n4        2.53      RU  1593296078  ",
      "text/html": "<div>\n<style scoped>\n    .dataframe tbody tr th:only-of-type {\n        vertical-align: middle;\n    }\n\n    .dataframe tbody tr th {\n        vertical-align: top;\n    }\n\n    .dataframe thead th {\n        text-align: right;\n    }\n</style>\n<table border=\"1\" class=\"dataframe\">\n  <thead>\n    <tr style=\"text-align: right;\">\n      <th></th>\n      <th>Unnamed: 0</th>\n      <th>City Name</th>\n      <th>Lat</th>\n      <th>Lng</th>\n      <th>Temp</th>\n      <th>Humidity</th>\n      <th>Cloudiness</th>\n      <th>Wind Speed</th>\n      <th>Country</th>\n      <th>Date</th>\n    </tr>\n  </thead>\n  <tbody>\n    <tr>\n      <th>0</th>\n      <td>0</td>\n      <td>Hofn</td>\n      <td>64.25</td>\n      <td>-15.21</td>\n      <td>54.32</td>\n      <td>85</td>\n      <td>100</td>\n      <td>13.65</td>\n      <td>IS</td>\n      <td>1593296014</td>\n    </tr>\n    <tr>\n      <th>1</th>\n      <td>1</td>\n      <td>Rikitea</td>\n      <td>-23.12</td>\n      <td>-134.97</td>\n      <td>70.54</td>\n      <td>75</td>\n      <td>0</td>\n      <td>17.16</td>\n      <td>PF</td>\n      <td>1593295847</td>\n    </tr>\n    <tr>\n      <th>2</th>\n      <td>2</td>\n      <td>Busselton</td>\n      <td>-33.65</td>\n      <td>115.33</td>\n      <td>60.01</td>\n      <td>75</td>\n      <td>100</td>\n      <td>22.15</td>\n      <td>AU</td>\n      <td>1593295847</td>\n    </tr>\n    <tr>\n      <th>3</th>\n      <td>3</td>\n      <td>Huilong</td>\n      <td>31.81</td>\n      <td>121.66</td>\n      <td>78.01</td>\n      <td>99</td>\n      <td>100</td>\n      <td>1.99</td>\n      <td>CN</td>\n      <td>1593296078</td>\n    </tr>\n    <tr>\n      <th>4</th>\n      <td>4</td>\n      <td>Idrinskoye</td>\n      <td>54.37</td>\n      <td>92.14</td>\n      <td>58.60</td>\n      <td>86</td>\n      <td>3</td>\n      <td>2.53</td>\n      <td>RU</td>\n      <td>1593296078</td>\n    </tr>\n  </tbody>\n</table>\n</div>"
     },
     "metadata": {},
     "execution_count": 119
    }
   ],
   "source": [
    "cities_df = pd.read_csv('../output_data/cities.csv')\n",
    "\n",
    "cities_df.head()\n"
   ]
  },
  {
   "cell_type": "markdown",
   "metadata": {},
   "source": [
    "### Humidity Heatmap\n",
    "* Configure gmaps.\n",
    "* Use the Lat and Lng as locations and Humidity as the weight.\n",
    "* Add Heatmap layer to map."
   ]
  },
  {
   "cell_type": "code",
   "execution_count": 120,
   "metadata": {},
   "outputs": [
    {
     "output_type": "display_data",
     "data": {
      "text/plain": "Figure(layout=FigureLayout(border='1px solid black', height='550px', padding='1px', width='1200px'))",
      "application/vnd.jupyter.widget-view+json": {
       "version_major": 2,
       "version_minor": 0,
       "model_id": "da471899a7144377a1bc5026619f850a"
      }
     },
     "metadata": {}
    }
   ],
   "source": [
    "# Configure gmaps\n",
    "gmaps.configure(api_key=g_key)\n",
    "\n",
    " # set coordinates for cities and use Humidity as the weight\n",
    "city_coord = cities_df[['Lat', 'Lng']]\n",
    "humidity_weight = cities_df['Humidity'].astype(float)\n",
    "\n",
    "# create a figure\n",
    "figure_layout = {\n",
    "    'width': '1200px',\n",
    "    'height': '550px',\n",
    "    'border': '1px solid black',\n",
    "    'padding': '1px'\n",
    "}\n",
    "fig = gmaps.figure(center=(0,0), zoom_level=2.2, layout=figure_layout)\n",
    "\n",
    "# add the heat layer\n",
    "heat_layer = gmaps.heatmap_layer(city_coord, weights=humidity_weight, dissipating=False, max_intensity=100, point_radius=3)\n",
    "fig.add_layer(heat_layer)\n",
    "\n",
    "# render\n",
    "fig\n"
   ]
  },
  {
   "cell_type": "code",
   "execution_count": null,
   "metadata": {},
   "outputs": [],
   "source": []
  },
  {
   "cell_type": "markdown",
   "metadata": {},
   "source": [
    "### Create new DataFrame fitting weather criteria\n",
    "* Narrow down the cities to fit weather conditions.\n",
    "* Drop any rows will null values."
   ]
  },
  {
   "cell_type": "code",
   "execution_count": 121,
   "metadata": {},
   "outputs": [
    {
     "output_type": "execute_result",
     "data": {
      "text/plain": "     Unnamed: 0        City Name    Lat     Lng   Temp  Humidity  Cloudiness  \\\n25           25  Fort-Shevchenko  44.51   50.26  70.45        53           0   \n257         257           Athens  37.98   23.72  78.01        44           0   \n275         275            Kumul  42.80   93.45  73.20        39           0   \n324         324          Awjilah  29.11   21.29  77.86        45           0   \n385         385         Loukísia  38.48   23.45  75.99        52           0   \n470         470        Mahajanga -15.72   46.32  71.60        68           0   \n471         471           Nushki  29.55   66.02  76.51        17           1   \n520         520           Tadine -21.55  167.88  71.58        62          16   \n530         530       Beli Potok  44.71   20.52  73.40        60           3   \n531         531           Gătaia  45.43   21.43  78.80        44           0   \n570         570           Waddān  29.16   16.14  79.43        39           0   \n\n     Wind Speed Country        Date  \n25         5.48      KZ  1593296080  \n257        7.14      GR  1593295740  \n275        3.36      CN  1593296112  \n324       11.12      LY  1593296114  \n385        5.82      GR  1593296127  \n470        4.70      MG  1593296138  \n471        4.12      PK  1593296138  \n520       11.01      NC  1593296144  \n530        8.05      RS  1593296146  \n531       17.22      RO  1593296146  \n570       13.53      LY  1593296152  ",
      "text/html": "<div>\n<style scoped>\n    .dataframe tbody tr th:only-of-type {\n        vertical-align: middle;\n    }\n\n    .dataframe tbody tr th {\n        vertical-align: top;\n    }\n\n    .dataframe thead th {\n        text-align: right;\n    }\n</style>\n<table border=\"1\" class=\"dataframe\">\n  <thead>\n    <tr style=\"text-align: right;\">\n      <th></th>\n      <th>Unnamed: 0</th>\n      <th>City Name</th>\n      <th>Lat</th>\n      <th>Lng</th>\n      <th>Temp</th>\n      <th>Humidity</th>\n      <th>Cloudiness</th>\n      <th>Wind Speed</th>\n      <th>Country</th>\n      <th>Date</th>\n    </tr>\n  </thead>\n  <tbody>\n    <tr>\n      <th>25</th>\n      <td>25</td>\n      <td>Fort-Shevchenko</td>\n      <td>44.51</td>\n      <td>50.26</td>\n      <td>70.45</td>\n      <td>53</td>\n      <td>0</td>\n      <td>5.48</td>\n      <td>KZ</td>\n      <td>1593296080</td>\n    </tr>\n    <tr>\n      <th>257</th>\n      <td>257</td>\n      <td>Athens</td>\n      <td>37.98</td>\n      <td>23.72</td>\n      <td>78.01</td>\n      <td>44</td>\n      <td>0</td>\n      <td>7.14</td>\n      <td>GR</td>\n      <td>1593295740</td>\n    </tr>\n    <tr>\n      <th>275</th>\n      <td>275</td>\n      <td>Kumul</td>\n      <td>42.80</td>\n      <td>93.45</td>\n      <td>73.20</td>\n      <td>39</td>\n      <td>0</td>\n      <td>3.36</td>\n      <td>CN</td>\n      <td>1593296112</td>\n    </tr>\n    <tr>\n      <th>324</th>\n      <td>324</td>\n      <td>Awjilah</td>\n      <td>29.11</td>\n      <td>21.29</td>\n      <td>77.86</td>\n      <td>45</td>\n      <td>0</td>\n      <td>11.12</td>\n      <td>LY</td>\n      <td>1593296114</td>\n    </tr>\n    <tr>\n      <th>385</th>\n      <td>385</td>\n      <td>Loukísia</td>\n      <td>38.48</td>\n      <td>23.45</td>\n      <td>75.99</td>\n      <td>52</td>\n      <td>0</td>\n      <td>5.82</td>\n      <td>GR</td>\n      <td>1593296127</td>\n    </tr>\n    <tr>\n      <th>470</th>\n      <td>470</td>\n      <td>Mahajanga</td>\n      <td>-15.72</td>\n      <td>46.32</td>\n      <td>71.60</td>\n      <td>68</td>\n      <td>0</td>\n      <td>4.70</td>\n      <td>MG</td>\n      <td>1593296138</td>\n    </tr>\n    <tr>\n      <th>471</th>\n      <td>471</td>\n      <td>Nushki</td>\n      <td>29.55</td>\n      <td>66.02</td>\n      <td>76.51</td>\n      <td>17</td>\n      <td>1</td>\n      <td>4.12</td>\n      <td>PK</td>\n      <td>1593296138</td>\n    </tr>\n    <tr>\n      <th>520</th>\n      <td>520</td>\n      <td>Tadine</td>\n      <td>-21.55</td>\n      <td>167.88</td>\n      <td>71.58</td>\n      <td>62</td>\n      <td>16</td>\n      <td>11.01</td>\n      <td>NC</td>\n      <td>1593296144</td>\n    </tr>\n    <tr>\n      <th>530</th>\n      <td>530</td>\n      <td>Beli Potok</td>\n      <td>44.71</td>\n      <td>20.52</td>\n      <td>73.40</td>\n      <td>60</td>\n      <td>3</td>\n      <td>8.05</td>\n      <td>RS</td>\n      <td>1593296146</td>\n    </tr>\n    <tr>\n      <th>531</th>\n      <td>531</td>\n      <td>Gătaia</td>\n      <td>45.43</td>\n      <td>21.43</td>\n      <td>78.80</td>\n      <td>44</td>\n      <td>0</td>\n      <td>17.22</td>\n      <td>RO</td>\n      <td>1593296146</td>\n    </tr>\n    <tr>\n      <th>570</th>\n      <td>570</td>\n      <td>Waddān</td>\n      <td>29.16</td>\n      <td>16.14</td>\n      <td>79.43</td>\n      <td>39</td>\n      <td>0</td>\n      <td>13.53</td>\n      <td>LY</td>\n      <td>1593296152</td>\n    </tr>\n  </tbody>\n</table>\n</div>"
     },
     "metadata": {},
     "execution_count": 121
    }
   ],
   "source": [
    "ideal_cities = cities_df.loc[(cities_df['Humidity'] < 70) & (cities_df['Temp'] < 80) & (cities_df['Temp'] > 70) & (cities_df['Cloudiness'] < 20)]\n",
    "ideal_cities"
   ]
  },
  {
   "cell_type": "markdown",
   "metadata": {},
   "source": [
    "### Hotel Map\n",
    "* Store into variable named `hotel_df`.\n",
    "* Add a \"Hotel Name\" column to the DataFrame.\n",
    "* Set parameters to search for hotels with 5000 meters.\n",
    "* Hit the Google Places API for each city's coordinates.\n",
    "* Store the first Hotel result into the DataFrame.\n",
    "* Plot markers on top of the heatmap."
   ]
  },
  {
   "cell_type": "code",
   "execution_count": 122,
   "metadata": {
    "tags": []
   },
   "outputs": [],
   "source": [
    "# hname = result['results'][0]['name']\n",
    "# hlat = result['results'][0]['geometry']['location']['lat']\n",
    "# hlng = result['results'][0]['geometry']['location']['lng']\n",
    "# print(f'Hotel {hname} is located at {hlat} by {hlng}')\n"
   ]
  },
  {
   "cell_type": "code",
   "execution_count": 123,
   "metadata": {
    "tags": []
   },
   "outputs": [],
   "source": [
    "\n",
    "# format ideal city lat/lng for Places API\n",
    "ideal_city_coords = ideal_cities['Lat'].astype(str) + ', ' + ideal_cities['Lng'].astype(str)\n",
    "\n",
    "# to build DataFrame later\n",
    "hotel_name = []\n",
    "hotel_lat = []\n",
    "hotel_lng = []\n",
    " \n",
    "# geocoordinates\n",
    "target_coordinates = \"\"\n",
    "target_search = \"Hotel\"\n",
    "target_radius = 5000\n",
    "target_type = \"hotel\"\n",
    "\n",
    "# parameters\n",
    "params = {\n",
    "    \"location\": target_coordinates,\n",
    "    \"keyword\": target_search,\n",
    "    \"radius\": target_radius,\n",
    "    \"type\": target_type,\n",
    "    \"key\": g_key\n",
    "}\n",
    "\n",
    "# base url\n",
    "base_url = \"https://maps.googleapis.com/maps/api/place/nearbysearch/json\"\n",
    "\n",
    "\n",
    "# loop through cities and make requests using parameter dictionary\n",
    "for latlng in ideal_city_coords:\n",
    "\n",
    "    params['location'] = latlng\n",
    "\n",
    "    try:\n",
    "        response = requests.get(base_url, params=params)\n",
    "        hotel_result = response.json()\n",
    "\n",
    "        hotel_name.append(hotel_result['results'][0]['name'])\n",
    "        hotel_lat.append(hotel_result['results'][0]['geometry']['location']['lat'])\n",
    "        hotel_lng.append(hotel_result['results'][0]['geometry']['location']['lng'])\n",
    "\n",
    "    except:\n",
    "        hotel_name.append('No Hotel Located')\n",
    "        hotel_lat.append('0')\n",
    "        hotel_lng.append('0')"
   ]
  },
  {
   "cell_type": "code",
   "execution_count": 124,
   "metadata": {},
   "outputs": [
    {
     "output_type": "execute_result",
     "data": {
      "text/plain": "Hotel Name    object\nCity          object\nCountry       object\nLat           object\nLng           object\ndtype: object"
     },
     "metadata": {},
     "execution_count": 124
    }
   ],
   "source": [
    "# create new df for gmap markers\n",
    "ideal_city_names = ideal_cities['City Name']\n",
    "ideal_countries = ideal_cities['Country']\n",
    "\n",
    "ideal_hotels = pd.DataFrame({\n",
    "    'Hotel Name': hotel_name,\n",
    "    'City': ideal_city_names,\n",
    "    'Country': ideal_countries,\n",
    "    'Lat': hotel_lat,\n",
    "    'Lng': hotel_lng\n",
    "})\n",
    "\n",
    "#ideal_hotels.head()\n",
    "\n",
    "ideal_hotels.dtypes\n"
   ]
  },
  {
   "cell_type": "code",
   "execution_count": 125,
   "metadata": {},
   "outputs": [],
   "source": [
    "# NOTE: Do not change any of the code in this cell\n",
    "\n",
    "# Using the template add the hotel marks to the heatmap\n",
    "info_box_template = \"\"\"\n",
    "<dl>\n",
    "<dt>Name</dt><dd>{Hotel Name}</dd>\n",
    "<dt>City</dt><dd>{City}</dd>\n",
    "<dt>Country</dt><dd>{Country}</dd>\n",
    "</dl>\n",
    "\"\"\"\n",
    "# Store the DataFrame Row\n",
    "# NOTE: be sure to update with your DataFrame name\n",
    "hotel_info = [info_box_template.format(**row) for index, row in ideal_hotels.iterrows()]\n",
    "locations = ideal_hotels[[\"Lat\", \"Lng\"]].astype('float')"
   ]
  },
  {
   "cell_type": "code",
   "execution_count": 130,
   "metadata": {},
   "outputs": [
    {
     "output_type": "display_data",
     "data": {
      "text/plain": "Figure(layout=FigureLayout(border='1px solid black', height='550px', padding='1px', width='1200px'))",
      "application/vnd.jupyter.widget-view+json": {
       "version_major": 2,
       "version_minor": 0,
       "model_id": "da471899a7144377a1bc5026619f850a"
      }
     },
     "metadata": {}
    }
   ],
   "source": [
    "#Add marker layer ontop of heat map\n",
    "marker_layer = gmaps.marker_layer(locations, info_box_content=hotel_info)\n",
    "fig.add_layer(marker_layer)\n",
    "# Display figure\n",
    "fig"
   ]
  },
  {
   "cell_type": "code",
   "execution_count": null,
   "metadata": {},
   "outputs": [],
   "source": []
  }
 ],
 "metadata": {
  "kernelspec": {
   "display_name": "Python 3.6.10 64-bit ('PythonData': conda)",
   "language": "python",
   "name": "python361064bitpythondataconda2a9a3c884c40400db426ae2e3e580487"
  },
  "language_info": {
   "codemirror_mode": {
    "name": "ipython",
    "version": 3
   },
   "file_extension": ".py",
   "mimetype": "text/x-python",
   "name": "python",
   "nbconvert_exporter": "python",
   "pygments_lexer": "ipython3",
   "version": "3.6.10-final"
  },
  "latex_envs": {
   "LaTeX_envs_menu_present": true,
   "autoclose": false,
   "autocomplete": true,
   "bibliofile": "biblio.bib",
   "cite_by": "apalike",
   "current_citInitial": 1,
   "eqLabelWithNumbers": true,
   "eqNumInitial": 1,
   "hotkeys": {
    "equation": "Ctrl-E",
    "itemize": "Ctrl-I"
   },
   "labels_anchors": false,
   "latex_user_defs": false,
   "report_style_numbering": false,
   "user_envs_cfg": false
  }
 },
 "nbformat": 4,
 "nbformat_minor": 2
}