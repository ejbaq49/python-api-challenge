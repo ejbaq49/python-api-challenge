{
 "cells": [
  {
   "cell_type": "code",
   "execution_count": 75,
   "metadata": {
    "scrolled": true
   },
   "outputs": [
    {
     "name": "stdout",
     "output_type": "stream",
     "text": [
      "Requirement already satisfied: openweathermapy in /Users/rfleenor1/opt/anaconda3/envs/PythonData/lib/python3.6/site-packages (0.6.6)\r\n"
     ]
    }
   ],
   "source": [
    "!pip install openweathermapy"
   ]
  },
  {
   "cell_type": "code",
   "execution_count": 76,
   "metadata": {},
   "outputs": [],
   "source": [
    "# Dependencies\n",
    "import openweathermapy.core as owm\n",
    "\n",
    "#import api_key\n",
    "from config import api_key"
   ]
  },
  {
   "cell_type": "code",
   "execution_count": 77,
   "metadata": {},
   "outputs": [],
   "source": [
    "# Create settings parameters\n",
    "settings = {\"units\": \"imperial\", \"APPID\": \"9ebbb225f06a23e1c3136f425035757a\"}"
   ]
  },
  {
   "cell_type": "code",
   "execution_count": 78,
   "metadata": {},
   "outputs": [
    {
     "name": "stdout",
     "output_type": "stream",
     "text": [
      "2020-06-27 00:00:00 | 108.09 F\n",
      "2020-06-27 03:00:00 | 102.74 F\n",
      "2020-06-27 06:00:00 | 95.02 F\n",
      "2020-06-27 09:00:00 | 89.47 F\n",
      "2020-06-27 12:00:00 | 86.9 F\n",
      "2020-06-27 15:00:00 | 91.78 F\n",
      "2020-06-27 18:00:00 | 97.63 F\n",
      "2020-06-27 21:00:00 | 103.24 F\n",
      "2020-06-28 00:00:00 | 105.44 F\n",
      "2020-06-28 03:00:00 | 99.5 F\n",
      "2020-06-28 06:00:00 | 92.03 F\n",
      "2020-06-28 09:00:00 | 86.4 F\n",
      "2020-06-28 12:00:00 | 82.9 F\n",
      "2020-06-28 15:00:00 | 87.4 F\n",
      "2020-06-28 18:00:00 | 94.57 F\n",
      "2020-06-28 21:00:00 | 103.75 F\n",
      "2020-06-29 00:00:00 | 103.08 F\n",
      "2020-06-29 03:00:00 | 94.46 F\n",
      "2020-06-29 06:00:00 | 87.57 F\n",
      "2020-06-29 09:00:00 | 83.34 F\n",
      "2020-06-29 12:00:00 | 79.57 F\n",
      "2020-06-29 15:00:00 | 80.94 F\n",
      "2020-06-29 18:00:00 | 88.27 F\n",
      "2020-06-29 21:00:00 | 98.74 F\n",
      "2020-06-30 00:00:00 | 98.55 F\n",
      "2020-06-30 03:00:00 | 92.21 F\n",
      "2020-06-30 06:00:00 | 84.07 F\n",
      "2020-06-30 09:00:00 | 79.48 F\n",
      "2020-06-30 12:00:00 | 77.25 F\n",
      "2020-06-30 15:00:00 | 81.16 F\n",
      "2020-06-30 18:00:00 | 88.9 F\n",
      "2020-06-30 21:00:00 | 97.32 F\n",
      "2020-07-01 00:00:00 | 99.19 F\n",
      "2020-07-01 03:00:00 | 92.82 F\n",
      "2020-07-01 06:00:00 | 88.14 F\n",
      "2020-07-01 09:00:00 | 82.78 F\n",
      "2020-07-01 12:00:00 | 80.64 F\n",
      "2020-07-01 15:00:00 | 85.84 F\n",
      "2020-07-01 18:00:00 | 93.27 F\n",
      "2020-07-01 21:00:00 | 99.01 F\n"
     ]
    }
   ],
   "source": [
    "# make the API call using owm's get_fourcast_hourly method\n",
    "forecast = owm.get_forecast_hourly(\"Phoenix, US\", **settings)\n",
    "\n",
    "# extract the date in text format and the temperature from each record\n",
    "# and save them in a list\n",
    "summary = [\"dt_txt\", \"main.temp\"]\n",
    "data = [hourly_forecast(*summary) for hourly_forecast in forecast]\n",
    "\n",
    "# format the printing of each record\n",
    "for hourly_forecast in data:\n",
    "    print(f\"{hourly_forecast[0]} | {hourly_forecast[1]} F\")"
   ]
  },
  {
   "cell_type": "code",
   "execution_count": 79,
   "metadata": {
    "scrolled": true
   },
   "outputs": [
    {
     "name": "stdout",
     "output_type": "stream",
     "text": [
      "2020-06-27 00:00:00 | 108.09 F\n",
      "2020-06-27 03:00:00 | 102.74 F\n",
      "2020-06-27 06:00:00 | 95.02 F\n",
      "2020-06-27 09:00:00 | 89.47 F\n",
      "2020-06-27 12:00:00 | 86.9 F\n",
      "2020-06-27 15:00:00 | 91.78 F\n",
      "2020-06-27 18:00:00 | 97.63 F\n",
      "2020-06-27 21:00:00 | 103.24 F\n",
      "2020-06-28 00:00:00 | 105.44 F\n",
      "2020-06-28 03:00:00 | 99.5 F\n",
      "2020-06-28 06:00:00 | 92.03 F\n",
      "2020-06-28 09:00:00 | 86.4 F\n",
      "2020-06-28 12:00:00 | 82.9 F\n",
      "2020-06-28 15:00:00 | 87.4 F\n",
      "2020-06-28 18:00:00 | 94.57 F\n",
      "2020-06-28 21:00:00 | 103.75 F\n",
      "2020-06-29 00:00:00 | 103.08 F\n",
      "2020-06-29 03:00:00 | 94.46 F\n",
      "2020-06-29 06:00:00 | 87.57 F\n",
      "2020-06-29 09:00:00 | 83.34 F\n",
      "2020-06-29 12:00:00 | 79.57 F\n",
      "2020-06-29 15:00:00 | 80.94 F\n",
      "2020-06-29 18:00:00 | 88.27 F\n",
      "2020-06-29 21:00:00 | 98.74 F\n",
      "2020-06-30 00:00:00 | 98.55 F\n",
      "2020-06-30 03:00:00 | 92.21 F\n",
      "2020-06-30 06:00:00 | 84.07 F\n",
      "2020-06-30 09:00:00 | 79.48 F\n",
      "2020-06-30 12:00:00 | 77.25 F\n",
      "2020-06-30 15:00:00 | 81.16 F\n",
      "2020-06-30 18:00:00 | 88.9 F\n",
      "2020-06-30 21:00:00 | 97.32 F\n",
      "2020-07-01 00:00:00 | 99.19 F\n",
      "2020-07-01 03:00:00 | 92.82 F\n",
      "2020-07-01 06:00:00 | 88.14 F\n",
      "2020-07-01 09:00:00 | 82.78 F\n",
      "2020-07-01 12:00:00 | 80.64 F\n",
      "2020-07-01 15:00:00 | 85.84 F\n",
      "2020-07-01 18:00:00 | 93.27 F\n",
      "2020-07-01 21:00:00 | 99.01 F\n"
     ]
    }
   ],
   "source": [
    "# BONUS 1\n",
    "# use owm's select method to select the desired data from\n",
    "# each record in the response\n",
    "\n",
    "selection = [\"dt_txt\", \"main.temp\"]\n",
    "data = forecast.select(selection)\n",
    "\n",
    "# print formatted results\n",
    "for hourly_forecast in data:\n",
    "    print(f\"{hourly_forecast[0]} | {hourly_forecast[1]} F\")"
   ]
  },
  {
   "cell_type": "code",
   "execution_count": 80,
   "metadata": {},
   "outputs": [],
   "source": [
    "# BONUS 2\n",
    "import matplotlib.pyplot as plt\n",
    "from matplotlib.dates import DateFormatter"
   ]
  },
  {
   "cell_type": "code",
   "execution_count": 81,
   "metadata": {},
   "outputs": [],
   "source": [
    "# List for holding temperatures\n",
    "temps = []\n",
    "times = []\n",
    "\n",
    "# Display the weather with dates\n",
    "for record in data:\n",
    "    temps.append(record[1])\n",
    "    weather_date = datetime.datetime.strptime(record[0], \"%Y-%m-%d %H:%M:%S\")\n",
    "    times.append(weather_date)"
   ]
  },
  {
   "cell_type": "code",
   "execution_count": 82,
   "metadata": {},
   "outputs": [
    {
     "data": {
      "image/png": "[encoded data removed]",
      "text/plain": [
       "<Figure size 432x288 with 1 Axes>"
      ]
     },
     "metadata": {
      "needs_background": "light"
     },
     "output_type": "display_data"
    }
   ],
   "source": [
    "# Plot the temperatures over time\n",
    "plt.plot(times, temps)\n",
    "formatter = DateFormatter('%Y-%m-%d %H:%M:%S')\n",
    "plt.gcf().axes[0].xaxis.set_major_formatter(formatter)\n",
    "plt.gcf().autofmt_xdate()\n",
    "plt.show()"
   ]
  },
  {
   "cell_type": "code",
   "execution_count": 83,
   "metadata": {},
   "outputs": [
    {
     "name": "stdout",
     "output_type": "stream",
     "text": [
      "dt_object1 = 2018-11-12 09:15:32\n",
      "dt_object2 = 2018-12-11\n"
     ]
    }
   ],
   "source": [
    "from datetime import datetime\n",
    "\n",
    "dt_string = \"12/11/2018 09:15:32\"\n",
    "\n",
    "# Considering date is in dd/mm/yyyy format\n",
    "dt_object1 = datetime.strptime(dt_string, \"%d/%m/%Y %H:%M:%S\")\n",
    "print(\"dt_object1 =\", dt_object1)\n",
    "\n",
    "# Considering date is in mm/dd/yyyy format\n",
    "dt_object2 = datetime.strptime(dt_string, \"%m/%d/%Y %H:%M:%S\")\n",
    "print(\"dt_object2 =\", str(dt_object2)[0:10])"
   ]
  },
  {
   "cell_type": "code",
   "execution_count": null,
   "metadata": {},
   "outputs": [],
   "source": []
  }
 ],
 "metadata": {
  "kernelspec": {
   "display_name": "Python 3.6.10 64-bit ('PythonData': conda)",
   "language": "python",
   "name": "python361064bitpythondataconda00866c4260964afd8bffa0360abdaef0"
  },
  "language_info": {
   "codemirror_mode": {
    "name": "ipython",
    "version": 3
   },
   "file_extension": ".py",
   "mimetype": "text/x-python",
   "name": "python",
   "nbconvert_exporter": "python",
   "pygments_lexer": "ipython3",
   "version": "3.6.10"
  }
 },
 "nbformat": 4,
 "nbformat_minor": 2
}
